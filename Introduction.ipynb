{
  "cells": [
    {
      "cell_type": "markdown",
      "metadata": {},
      "source": [
        "<img src=\"https://i.ytimg.com/vi/39Crffx43T8/mqdefault.jpg\" alt=\"alternatetext\" style=\"width:1000px;\">\n"
      ]
    },
    {
      "cell_type": "markdown",
      "metadata": {
        "id": "M9VnE6cvt_OK"
      },
      "source": [
        "# Numbers and more in Python!\n"
      ]
    },
    {
      "cell_type": "markdown",
      "metadata": {
        "id": "D4SDje53t_OP"
      },
      "source": [
        "### Basic Arithmetic\n",
        "let us start writing simple python code and get familiair with coding"
      ]
    },
    {
      "cell_type": "code",
      "execution_count": 33,
      "metadata": {
        "id": "gcvDaXWYt_OQ"
      },
      "outputs": [
        {
          "data": {
            "text/plain": [
              "3"
            ]
          },
          "execution_count": 33,
          "metadata": {},
          "output_type": "execute_result"
        }
      ],
      "source": [
        "# Addition --> we will start with the simplest code --> addition.    as we can see that the result(the output) of our code\n",
        "#                                                                    will appear under the cell\n",
        "\n",
        "2+1"
      ]
    },
    {
      "cell_type": "code",
      "execution_count": 34,
      "metadata": {
        "id": "0AUwHxP_t_OU"
      },
      "outputs": [
        {
          "data": {
            "text/plain": [
              "2"
            ]
          },
          "execution_count": 34,
          "metadata": {},
          "output_type": "execute_result"
        }
      ],
      "source": [
        "1+1"
      ]
    },
    {
      "cell_type": "code",
      "execution_count": 35,
      "metadata": {
        "id": "MU8kY5v0t_OV"
      },
      "outputs": [
        {
          "data": {
            "text/plain": [
              "-3"
            ]
          },
          "execution_count": 35,
          "metadata": {},
          "output_type": "execute_result"
        }
      ],
      "source": [
        "# Subtraction\n",
        "2-5"
      ]
    },
    {
      "cell_type": "code",
      "execution_count": 36,
      "metadata": {
        "id": "U5sPFUh_t_OW"
      },
      "outputs": [
        {
          "data": {
            "text/plain": [
              "4"
            ]
          },
          "execution_count": 36,
          "metadata": {},
          "output_type": "execute_result"
        }
      ],
      "source": [
        "# Multiplication\n",
        "2*2"
      ]
    },
    {
      "cell_type": "code",
      "execution_count": 37,
      "metadata": {
        "id": "ykQbTMI_t_OX"
      },
      "outputs": [
        {
          "data": {
            "text/plain": [
              "1.5"
            ]
          },
          "execution_count": 37,
          "metadata": {},
          "output_type": "execute_result"
        }
      ],
      "source": [
        "# Division\n",
        "3/2"
      ]
    },
    {
      "cell_type": "code",
      "execution_count": 38,
      "metadata": {
        "id": "dzK1JMdgt_OX"
      },
      "outputs": [
        {
          "data": {
            "text/plain": [
              "1.75"
            ]
          },
          "execution_count": 38,
          "metadata": {},
          "output_type": "execute_result"
        }
      ],
      "source": [
        "# Floor Division\n",
        "7/4\n"
      ]
    },
    {
      "cell_type": "markdown",
      "metadata": {
        "id": "oVcFde36t_OY"
      },
      "source": [
        "**So what if we just want the remainder after division?**"
      ]
    },
    {
      "cell_type": "code",
      "execution_count": 39,
      "metadata": {
        "id": "jyHOAGbZt_OY"
      },
      "outputs": [
        {
          "data": {
            "text/plain": [
              "1"
            ]
          },
          "execution_count": 39,
          "metadata": {},
          "output_type": "execute_result"
        }
      ],
      "source": [
        "7%2\n"
      ]
    },
    {
      "cell_type": "markdown",
      "metadata": {
        "id": "TA7rQjLft_OZ"
      },
      "source": [
        "### Arithmetic continued"
      ]
    },
    {
      "cell_type": "code",
      "execution_count": 40,
      "metadata": {
        "id": "HCD-0VHqt_Oa"
      },
      "outputs": [
        {
          "data": {
            "text/plain": [
              "8"
            ]
          },
          "execution_count": 40,
          "metadata": {},
          "output_type": "execute_result"
        }
      ],
      "source": [
        "# Powers\n",
        "2**3"
      ]
    },
    {
      "cell_type": "code",
      "execution_count": 41,
      "metadata": {
        "id": "mdP0rwaxt_Oa"
      },
      "outputs": [
        {
          "data": {
            "text/plain": [
              "2.0"
            ]
          },
          "execution_count": 41,
          "metadata": {},
          "output_type": "execute_result"
        }
      ],
      "source": [
        "# Can also do roots this way\n",
        "4**0.5"
      ]
    },
    {
      "cell_type": "code",
      "execution_count": 42,
      "metadata": {
        "id": "-6i6ZpaDt_Oa"
      },
      "outputs": [
        {
          "data": {
            "text/plain": [
              "105"
            ]
          },
          "execution_count": 42,
          "metadata": {},
          "output_type": "execute_result"
        }
      ],
      "source": [
        "# Order of Operations followed in Python\n",
        "2 + 10 * 10 + 3"
      ]
    },
    {
      "cell_type": "code",
      "execution_count": 43,
      "metadata": {
        "id": "tCkq-Fqct_Ob"
      },
      "outputs": [
        {
          "data": {
            "text/plain": [
              "156"
            ]
          },
          "execution_count": 43,
          "metadata": {},
          "output_type": "execute_result"
        }
      ],
      "source": [
        "# Can use parentheses to specify orders\n",
        "(2+10) * (10+3)"
      ]
    },
    {
      "cell_type": "markdown",
      "metadata": {
        "id": "daMg2X3Ft_Ob"
      },
      "source": [
        "### Data types\n",
        "\n",
        "#### integers\n",
        "#### floats\n",
        "#### list"
      ]
    },
    {
      "cell_type": "markdown",
      "metadata": {
        "id": "sNNOhvwXt_Ob"
      },
      "source": [
        "#### tuple"
      ]
    },
    {
      "cell_type": "markdown",
      "metadata": {
        "id": "xtv9gkHHt_Oc"
      },
      "source": [
        "#### dictionary\n",
        "#### booleans\n",
        "#### sets"
      ]
    },
    {
      "cell_type": "markdown",
      "metadata": {
        "id": "8Tl_KUI6jMHE"
      },
      "source": [
        "# Get the type"
      ]
    },
    {
      "cell_type": "code",
      "execution_count": 44,
      "metadata": {
        "id": "w9R8-gjHjMHE"
      },
      "outputs": [
        {
          "data": {
            "text/plain": [
              "int"
            ]
          },
          "execution_count": 44,
          "metadata": {},
          "output_type": "execute_result"
        }
      ],
      "source": [
        "type(5)"
      ]
    },
    {
      "cell_type": "code",
      "execution_count": 45,
      "metadata": {
        "id": "lmrpmazjjMHE"
      },
      "outputs": [
        {
          "data": {
            "text/plain": [
              "float"
            ]
          },
          "execution_count": 45,
          "metadata": {},
          "output_type": "execute_result"
        }
      ],
      "source": [
        "type(5.5)"
      ]
    },
    {
      "cell_type": "markdown",
      "metadata": {
        "id": "8xsZ1rA9uBkK"
      },
      "source": [
        "# Print Statements"
      ]
    },
    {
      "cell_type": "markdown",
      "metadata": {
        "id": "V46ZdVw4jMHF"
      },
      "source": [
        "**what if i want to print 5 + 6 and 7 + 9? why in the following cell it only printed 7 + 9**"
      ]
    },
    {
      "cell_type": "code",
      "execution_count": 46,
      "metadata": {
        "id": "STSsau4YjMHF"
      },
      "outputs": [
        {
          "data": {
            "text/plain": [
              "16"
            ]
          },
          "execution_count": 46,
          "metadata": {},
          "output_type": "execute_result"
        }
      ],
      "source": [
        "5 + 6\n",
        "7 + 9"
      ]
    },
    {
      "cell_type": "markdown",
      "metadata": {
        "id": "8uJVjmTcjMHF"
      },
      "source": [
        "**to solve the problem above we use print command**"
      ]
    },
    {
      "cell_type": "code",
      "execution_count": 47,
      "metadata": {
        "id": "gIX9PkXSjMHF"
      },
      "outputs": [
        {
          "name": "stdout",
          "output_type": "stream",
          "text": [
            "11\n",
            "16\n"
          ]
        }
      ],
      "source": [
        "print(5 + 6)\n",
        "print(7 + 9)"
      ]
    },
    {
      "cell_type": "markdown",
      "metadata": {
        "id": "eduurWJ5jMHF"
      },
      "source": [
        "**Other print examples**"
      ]
    },
    {
      "cell_type": "code",
      "execution_count": 48,
      "metadata": {
        "id": "qkl3vyFguBkN"
      },
      "outputs": [
        {
          "name": "stdout",
          "output_type": "stream",
          "text": [
            "Hello World\n"
          ]
        }
      ],
      "source": [
        "print(\"Hello World\")"
      ]
    },
    {
      "cell_type": "code",
      "execution_count": 49,
      "metadata": {
        "id": "LRwUzg8tuBkS"
      },
      "outputs": [
        {
          "name": "stdout",
          "output_type": "stream",
          "text": [
            "Welcome\n",
            "50\n",
            "3.4\n",
            "Hello world \n",
            "my age =  30\n"
          ]
        }
      ],
      "source": [
        "print(\"Welcome\")\n",
        "print(50)\n",
        "print(3.4)\n",
        "print(\"Hello world \")\n",
        "print(\"my age = \",30)"
      ]
    },
    {
      "cell_type": "markdown",
      "metadata": {
        "id": "OAdWxiXDjMHF"
      },
      "source": [
        "**How to prevent printing new line**"
      ]
    },
    {
      "cell_type": "code",
      "execution_count": 50,
      "metadata": {
        "id": "ftIMgVsjuBkT",
        "scrolled": true
      },
      "outputs": [
        {
          "name": "stdout",
          "output_type": "stream",
          "text": [
            "Hello World"
          ]
        }
      ],
      "source": [
        "print(\"Hello\", end=\" \")\n",
        "print(\"World\", end=\"\")"
      ]
    },
    {
      "cell_type": "markdown",
      "metadata": {
        "id": "NhHIRr_OuBkT"
      },
      "source": [
        "# Comments"
      ]
    },
    {
      "cell_type": "markdown",
      "metadata": {
        "id": "6iQC-drmuBkU"
      },
      "source": [
        "**Single Line comment**"
      ]
    },
    {
      "cell_type": "code",
      "execution_count": 51,
      "metadata": {
        "id": "dEkRin7huBkU"
      },
      "outputs": [],
      "source": [
        "# print(\"Welcome\")"
      ]
    },
    {
      "cell_type": "markdown",
      "metadata": {
        "id": "Pdx0vbh1uBkU"
      },
      "source": [
        "**Multiple Line comment**"
      ]
    },
    {
      "cell_type": "code",
      "execution_count": 52,
      "metadata": {
        "id": "hpSfl_GHuBkU"
      },
      "outputs": [
        {
          "name": "stdout",
          "output_type": "stream",
          "text": [
            "Amit\n"
          ]
        }
      ],
      "source": [
        "'''I have started machine\n",
        "learning course at Amit'''\n",
        "\n",
        "\n",
        "# I have started machine\n",
        "# Learning Course at Amit\n",
        "\n",
        "print(\"Amit\")"
      ]
    },
    {
      "cell_type": "markdown",
      "metadata": {
        "id": "Kc8lI4-ZuBkV"
      },
      "source": [
        "# Variabels"
      ]
    },
    {
      "cell_type": "code",
      "execution_count": 53,
      "metadata": {
        "id": "Wh8HMQaVuBkV"
      },
      "outputs": [],
      "source": [
        "name = \"Ahmed\"\n",
        "age = 24\n"
      ]
    },
    {
      "cell_type": "code",
      "execution_count": 54,
      "metadata": {
        "id": "uP6kZ0l3uBkV"
      },
      "outputs": [
        {
          "name": "stdout",
          "output_type": "stream",
          "text": [
            "25\n"
          ]
        }
      ],
      "source": [
        "age += 1\n",
        "print(age)"
      ]
    },
    {
      "cell_type": "code",
      "execution_count": 55,
      "metadata": {
        "id": "U0tXWlzwuBkW"
      },
      "outputs": [
        {
          "data": {
            "text/plain": [
              "str"
            ]
          },
          "execution_count": 55,
          "metadata": {},
          "output_type": "execute_result"
        }
      ],
      "source": [
        "type(name)"
      ]
    },
    {
      "cell_type": "code",
      "execution_count": 56,
      "metadata": {
        "id": "zvBzuslWuBkW"
      },
      "outputs": [
        {
          "name": "stdout",
          "output_type": "stream",
          "text": [
            "1\n"
          ]
        }
      ],
      "source": [
        "#  assign a single value to severalvariables\n",
        "a = b = c = 1\n",
        "print(b)"
      ]
    },
    {
      "cell_type": "code",
      "execution_count": 57,
      "metadata": {
        "id": "r4hI7g4puBkW",
        "scrolled": true
      },
      "outputs": [
        {
          "name": "stdout",
          "output_type": "stream",
          "text": [
            "Ali\n"
          ]
        }
      ],
      "source": [
        "# assign multiple objects to multiplevariables\n",
        "a, b, c = 1, 2, \"Ali\"\n",
        "print(c)"
      ]
    },
    {
      "cell_type": "code",
      "execution_count": 58,
      "metadata": {
        "id": "BwBVMShvuBkW"
      },
      "outputs": [
        {
          "name": "stdout",
          "output_type": "stream",
          "text": [
            "2\n",
            "5\n"
          ]
        }
      ],
      "source": [
        "# Variables are Case-Sensitive\n",
        "X = 2\n",
        "x = 5\n",
        "print(X)\n",
        "print(x)"
      ]
    },
    {
      "cell_type": "markdown",
      "metadata": {
        "id": "stkjGxnBuBkX"
      },
      "source": [
        "# Multiple line statements & One-line  statements"
      ]
    },
    {
      "cell_type": "markdown",
      "metadata": {
        "id": "UmWLGPAkuBkX"
      },
      "source": [
        "**Multiple Line Statements**"
      ]
    },
    {
      "cell_type": "code",
      "execution_count": 59,
      "metadata": {
        "id": "gLX2tC-NuBkX"
      },
      "outputs": [],
      "source": [
        "# Example 1: Breaking a long line\n",
        "message = \"This is a long message that needs to be \" \\\n",
        "          \"broken into multiple lines for readability.\"\n",
        "\n",
        "# Example 2: Continuing an expression\n",
        "result = (2 + 3 +\n",
        "          4 * 5)"
      ]
    },
    {
      "cell_type": "code",
      "execution_count": 60,
      "metadata": {},
      "outputs": [
        {
          "name": "stdout",
          "output_type": "stream",
          "text": [
            "This is a long message that needs to be broken into multiple lines for readability.\n",
            "25\n"
          ]
        }
      ],
      "source": [
        "print(message)\n",
        "print(result)"
      ]
    },
    {
      "cell_type": "code",
      "execution_count": 61,
      "metadata": {
        "id": "NHw9wJetuBkY"
      },
      "outputs": [],
      "source": [
        "x = 10; y = 20; z = x + y\n",
        "\n",
        "name = \"John\"; age = 30; city = \"New York\""
      ]
    },
    {
      "cell_type": "code",
      "execution_count": 62,
      "metadata": {},
      "outputs": [
        {
          "name": "stdout",
          "output_type": "stream",
          "text": [
            "John 30 New York\n"
          ]
        }
      ],
      "source": [
        "print(name,age,city)"
      ]
    },
    {
      "cell_type": "markdown",
      "metadata": {},
      "source": [
        "##  Python identifier "
      ]
    },
    {
      "cell_type": "markdown",
      "metadata": {},
      "source": [
        "<img src=\"https://cpad.ask.fm/690/595/713/-439996995-1sqcc7b-gk7t66n1t53mpcf/original/avatar.jpg\" alt=\"alternatetext\">\n"
      ]
    },
    {
      "cell_type": "code",
      "execution_count": 63,
      "metadata": {},
      "outputs": [
        {
          "ename": "SyntaxError",
          "evalue": "invalid decimal literal (3123449702.py, line 2)",
          "output_type": "error",
          "traceback": [
            "\u001b[1;36m  Cell \u001b[1;32mIn[63], line 2\u001b[1;36m\u001b[0m\n\u001b[1;33m    0a = 5\u001b[0m\n\u001b[1;37m    ^\u001b[0m\n\u001b[1;31mSyntaxError\u001b[0m\u001b[1;31m:\u001b[0m invalid decimal literal\n"
          ]
        }
      ],
      "source": [
        "# Starts with (A-Z or a-z or _)\n",
        "0a = 5\n",
        "if = 5 \n",
        "hello = 5\n",
        "print(Hello)\n",
        "c@ = 5\n"
      ]
    },
    {
      "cell_type": "markdown",
      "metadata": {},
      "source": [
        "# format"
      ]
    },
    {
      "cell_type": "code",
      "execution_count": 64,
      "metadata": {},
      "outputs": [
        {
          "name": "stdout",
          "output_type": "stream",
          "text": [
            "My name is amit,my age is 30\n",
            "My name is amit,my age is 30\n",
            "My name is amit,my age is 30\n"
          ]
        }
      ],
      "source": [
        "print(\"My name is {0},my age is {1}\".format(\"amit\",30))\n",
        "print(\"My name is {},my age is {}\".format(\"amit\",30))\n",
        "print(\"My name is {x},my age is {y}\".format(x=\"amit\",y=30))"
      ]
    },
    {
      "cell_type": "code",
      "execution_count": 65,
      "metadata": {},
      "outputs": [
        {
          "name": "stdout",
          "output_type": "stream",
          "text": [
            "my name is amit,my age is30\n"
          ]
        }
      ],
      "source": [
        "name=\"amit\"\n",
        "age=30\n",
        "print(f\"my name is {name},my age is{age}\")"
      ]
    },
    {
      "cell_type": "markdown",
      "metadata": {
        "id": "HqDI0XqDuBkY"
      },
      "source": [
        "# Strings"
      ]
    },
    {
      "cell_type": "markdown",
      "metadata": {
        "id": "ob0xS1RNuBkZ"
      },
      "source": [
        "## Creating a String\n",
        "To create a string in Python you need to use either single quotes or double quotes. For example:"
      ]
    },
    {
      "cell_type": "code",
      "execution_count": 66,
      "metadata": {
        "id": "0Rd50jvcuBkZ"
      },
      "outputs": [
        {
          "data": {
            "text/plain": [
              "'h'"
            ]
          },
          "execution_count": 66,
          "metadata": {},
          "output_type": "execute_result"
        }
      ],
      "source": [
        "# Single word\n",
        "'h'"
      ]
    },
    {
      "cell_type": "code",
      "execution_count": 67,
      "metadata": {
        "id": "VEPoSdOguBkZ"
      },
      "outputs": [
        {
          "data": {
            "text/plain": [
              "'This is also a string'"
            ]
          },
          "execution_count": 67,
          "metadata": {},
          "output_type": "execute_result"
        }
      ],
      "source": [
        "# Entire phrase\n",
        "'This is also a string'"
      ]
    },
    {
      "cell_type": "code",
      "execution_count": 68,
      "metadata": {
        "id": "ipZHBSy4uBka"
      },
      "outputs": [
        {
          "data": {
            "text/plain": [
              "'String built with double quotes'"
            ]
          },
          "execution_count": 68,
          "metadata": {},
          "output_type": "execute_result"
        }
      ],
      "source": [
        "# We can also use double quote\n",
        "\"String built with double quotes\""
      ]
    },
    {
      "cell_type": "code",
      "execution_count": 69,
      "metadata": {
        "id": "9Y67pkx5uBka"
      },
      "outputs": [
        {
          "ename": "SyntaxError",
          "evalue": "unterminated string literal (detected at line 2) (2053197537.py, line 2)",
          "output_type": "error",
          "traceback": [
            "\u001b[1;36m  Cell \u001b[1;32mIn[69], line 2\u001b[1;36m\u001b[0m\n\u001b[1;33m    ' I'm using single quotes, but this will create an error'\u001b[0m\n\u001b[1;37m                                                            ^\u001b[0m\n\u001b[1;31mSyntaxError\u001b[0m\u001b[1;31m:\u001b[0m unterminated string literal (detected at line 2)\n"
          ]
        }
      ],
      "source": [
        "# Be careful with quotes!\n",
        "' I'm using single quotes, but this will create an error'"
      ]
    },
    {
      "cell_type": "code",
      "execution_count": 70,
      "metadata": {
        "id": "Z-UOPSwMuBka"
      },
      "outputs": [
        {
          "data": {
            "text/plain": [
              "\"Now I'm ready to use the single quotes inside a string!\""
            ]
          },
          "execution_count": 70,
          "metadata": {},
          "output_type": "execute_result"
        }
      ],
      "source": [
        "\"Now I'm ready to use the single quotes inside a string!\""
      ]
    },
    {
      "cell_type": "markdown",
      "metadata": {
        "id": "un7o7sKAuBkb"
      },
      "source": [
        "## Printing a String\n",
        "\n"
      ]
    },
    {
      "cell_type": "code",
      "execution_count": 71,
      "metadata": {
        "id": "S-ooG5fKuBkb"
      },
      "outputs": [
        {
          "data": {
            "text/plain": [
              "'Hello World'"
            ]
          },
          "execution_count": 71,
          "metadata": {},
          "output_type": "execute_result"
        }
      ],
      "source": [
        "# We can simply declare a string\n",
        "'Hello World'"
      ]
    },
    {
      "cell_type": "code",
      "execution_count": 72,
      "metadata": {
        "id": "nQNqcDgUuBkb"
      },
      "outputs": [
        {
          "data": {
            "text/plain": [
              "'ahmed'"
            ]
          },
          "execution_count": 72,
          "metadata": {},
          "output_type": "execute_result"
        }
      ],
      "source": [
        "# Note that we can't output multiple strings this way\n",
        "'Hello World 1'\n",
        "'Hello World 2'\n",
        "'ahmed'"
      ]
    },
    {
      "cell_type": "markdown",
      "metadata": {
        "id": "bNCNgU68uBkc"
      },
      "source": [
        "We can use a print statement to print a string."
      ]
    },
    {
      "cell_type": "code",
      "execution_count": 73,
      "metadata": {
        "id": "DY_Di9ZwuBkc"
      },
      "outputs": [
        {
          "name": "stdout",
          "output_type": "stream",
          "text": [
            "Hello World 1\n",
            "Hello World 2\n",
            "Use \t  to print a new line\n",
            "\n",
            "\n",
            "See what I mean?\n"
          ]
        }
      ],
      "source": [
        "print('Hello World 1')\n",
        "print('Hello World 2')\n",
        "print('Use \\t  to print a new line')\n",
        "print('\\n')\n",
        "print('See what I mean?')\n",
        "\n"
      ]
    },
    {
      "cell_type": "markdown",
      "metadata": {
        "id": "RaQXOtyluBkp"
      },
      "source": [
        "## String Basics"
      ]
    },
    {
      "cell_type": "markdown",
      "metadata": {
        "id": "1srWFz11uBkp"
      },
      "source": [
        "We can also use a function called len() to check the length of a string!"
      ]
    },
    {
      "cell_type": "code",
      "execution_count": 74,
      "metadata": {
        "id": "Io-IYGapuBkp"
      },
      "outputs": [
        {
          "data": {
            "text/plain": [
              "12"
            ]
          },
          "execution_count": 74,
          "metadata": {},
          "output_type": "execute_result"
        }
      ],
      "source": [
        "len('Hello World ')"
      ]
    },
    {
      "cell_type": "markdown",
      "metadata": {
        "id": "JK-lWS0-uBkq"
      },
      "source": [
        "## String Indexing\n"
      ]
    },
    {
      "cell_type": "code",
      "execution_count": 75,
      "metadata": {
        "id": "3gCmsE0LuBkq"
      },
      "outputs": [],
      "source": [
        "# Assign s as a string\n",
        "s = 'Hello World'\n",
        "\n"
      ]
    },
    {
      "cell_type": "code",
      "execution_count": 76,
      "metadata": {
        "id": "30htfhgauBkq"
      },
      "outputs": [
        {
          "data": {
            "text/plain": [
              "'Hello World'"
            ]
          },
          "execution_count": 76,
          "metadata": {},
          "output_type": "execute_result"
        }
      ],
      "source": [
        "#Check\n",
        "s\n",
        "s\n",
        "s\n",
        "s\n",
        "s"
      ]
    },
    {
      "cell_type": "code",
      "execution_count": 77,
      "metadata": {
        "id": "chziUjpNuBkq"
      },
      "outputs": [
        {
          "name": "stdout",
          "output_type": "stream",
          "text": [
            "Hello World\n",
            "Hello World\n",
            "Hello World\n"
          ]
        }
      ],
      "source": [
        "# Print the object\n",
        "print(s)\n",
        "print(s)\n",
        "print(s)"
      ]
    },
    {
      "cell_type": "code",
      "execution_count": 78,
      "metadata": {
        "id": "DK8yoWjsuBkr"
      },
      "outputs": [
        {
          "data": {
            "text/plain": [
              "'H'"
            ]
          },
          "execution_count": 78,
          "metadata": {},
          "output_type": "execute_result"
        }
      ],
      "source": [
        "# Show first element (in this case a letter)\n",
        "s[0]"
      ]
    },
    {
      "cell_type": "code",
      "execution_count": 79,
      "metadata": {
        "id": "3juEtO7_uBkr"
      },
      "outputs": [
        {
          "data": {
            "text/plain": [
              "' '"
            ]
          },
          "execution_count": 79,
          "metadata": {},
          "output_type": "execute_result"
        }
      ],
      "source": [
        "s[5]"
      ]
    },
    {
      "cell_type": "code",
      "execution_count": 80,
      "metadata": {
        "id": "8Vxh_9L9uBkr"
      },
      "outputs": [
        {
          "data": {
            "text/plain": [
              "'d'"
            ]
          },
          "execution_count": 80,
          "metadata": {},
          "output_type": "execute_result"
        }
      ],
      "source": [
        "s[-1]"
      ]
    },
    {
      "cell_type": "markdown",
      "metadata": {
        "id": "uWLvzDmNuBks"
      },
      "source": [
        "We can use a <code>:</code> to perform *slicing* which grabs everything up to a designated point. For example:"
      ]
    },
    {
      "cell_type": "code",
      "execution_count": 81,
      "metadata": {
        "id": "6d_utPxjuBks"
      },
      "outputs": [
        {
          "data": {
            "text/plain": [
              "'ello World'"
            ]
          },
          "execution_count": 81,
          "metadata": {},
          "output_type": "execute_result"
        }
      ],
      "source": [
        "# Grab everything past the first term all the way to the length of s which is len(s)\n",
        "s[1:]"
      ]
    },
    {
      "cell_type": "code",
      "execution_count": 82,
      "metadata": {
        "id": "QVhXDTH4uBkt"
      },
      "outputs": [
        {
          "data": {
            "text/plain": [
              "'Hello World'"
            ]
          },
          "execution_count": 82,
          "metadata": {},
          "output_type": "execute_result"
        }
      ],
      "source": [
        "# Note that there is no change to the original s\n",
        "s"
      ]
    },
    {
      "cell_type": "code",
      "execution_count": 83,
      "metadata": {
        "id": "EvTTJ-0uuBkt"
      },
      "outputs": [
        {
          "data": {
            "text/plain": [
              "'Hell'"
            ]
          },
          "execution_count": 83,
          "metadata": {},
          "output_type": "execute_result"
        }
      ],
      "source": [
        "# Grab everything UP TO the 3rd index\n",
        "s[:4]"
      ]
    },
    {
      "cell_type": "code",
      "execution_count": 84,
      "metadata": {
        "id": "xNr4S7yMuBkt"
      },
      "outputs": [
        {
          "data": {
            "text/plain": [
              "'d'"
            ]
          },
          "execution_count": 84,
          "metadata": {},
          "output_type": "execute_result"
        }
      ],
      "source": [
        "# Last letter (one index behind 0 so it loops back around)\n",
        "s[-1]"
      ]
    },
    {
      "cell_type": "code",
      "execution_count": 85,
      "metadata": {
        "id": "EVH6roS6uBku"
      },
      "outputs": [
        {
          "data": {
            "text/plain": [
              "'Hello World'"
            ]
          },
          "execution_count": 85,
          "metadata": {},
          "output_type": "execute_result"
        }
      ],
      "source": [
        "s"
      ]
    },
    {
      "cell_type": "markdown",
      "metadata": {},
      "source": [
        "### Some Functions to Strings  "
      ]
    },
    {
      "cell_type": "code",
      "execution_count": 86,
      "metadata": {},
      "outputs": [
        {
          "name": "stdout",
          "output_type": "stream",
          "text": [
            "AMIT LEARING\n",
            "amit learing\n",
            "hello learing\n",
            "Amit learing\n"
          ]
        }
      ],
      "source": [
        "name=\"amit learing\"\n",
        "print(name.upper())\n",
        "name=\"amit learing\"\n",
        "print(name.lower())\n",
        "name=\"amit learing\"\n",
        "print(name.replace(\"amit\",\"hello\"))\n",
        "name=\"amit learing\"\n",
        "print(name.capitalize())"
      ]
    },
    {
      "cell_type": "code",
      "execution_count": 87,
      "metadata": {},
      "outputs": [
        {
          "name": "stdout",
          "output_type": "stream",
          "text": [
            "Amit Learing\n",
            "AMIT LeaRING\n",
            "3\n",
            "['amit', 'learing', 'amit', 'learing']\n"
          ]
        }
      ],
      "source": [
        "name=\"amit learing\"\n",
        "print(name.title())\n",
        "name=\"amit lEAring\"\n",
        "print(name.swapcase())\n",
        "name=\"amit learing amit amit\"\n",
        "print(name.count(\"amit\"))\n",
        "name=\"amit learing amit learing\"\n",
        "print(name.split())"
      ]
    },
    {
      "cell_type": "code",
      "execution_count": 88,
      "metadata": {},
      "outputs": [
        {
          "name": "stdout",
          "output_type": "stream",
          "text": [
            "this#is#a#sentence\n"
          ]
        }
      ],
      "source": [
        "words=[\"this\",\"is\",\"a\",\"sentence\"]\n",
        "sentence=\"#\".join(words)\n",
        "print(sentence)"
      ]
    },
    {
      "cell_type": "code",
      "execution_count": 89,
      "metadata": {},
      "outputs": [
        {
          "name": "stdout",
          "output_type": "stream",
          "text": [
            "False\n"
          ]
        }
      ],
      "source": [
        "name=\"amit learing amit learning\"\n",
        "print(name.startswith(\"Amit\"))"
      ]
    },
    {
      "cell_type": "code",
      "execution_count": 90,
      "metadata": {},
      "outputs": [
        {
          "name": "stdout",
          "output_type": "stream",
          "text": [
            "False\n"
          ]
        }
      ],
      "source": [
        "name=\"amit learing amit learning\"\n",
        "print(name.endswith(\"Learning\"))"
      ]
    },
    {
      "cell_type": "markdown",
      "metadata": {},
      "source": [
        "<img src=\"https://i.pinimg.com/736x/e7/d3/9f/e7d39fb70c949b40b1b819580d8ce08a.jpg\" alt=\"alternatetext\">"
      ]
    },
    {
      "cell_type": "markdown",
      "metadata": {},
      "source": []
    }
  ],
  "metadata": {
    "colab": {
      "private_outputs": true,
      "provenance": []
    },
    "kernelspec": {
      "display_name": "Python 3",
      "name": "python3"
    },
    "language_info": {
      "codemirror_mode": {
        "name": "ipython",
        "version": 3
      },
      "file_extension": ".py",
      "mimetype": "text/x-python",
      "name": "python",
      "nbconvert_exporter": "python",
      "pygments_lexer": "ipython3",
      "version": "3.10.9"
    }
  },
  "nbformat": 4,
  "nbformat_minor": 0
}
